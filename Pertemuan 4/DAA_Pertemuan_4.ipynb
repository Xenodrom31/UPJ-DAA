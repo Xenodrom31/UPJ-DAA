{
 "cells": [
  {
   "cell_type": "markdown",
   "metadata": {},
   "source": [
    "# Pertemuan 4"
   ]
  },
  {
   "cell_type": "markdown",
   "metadata": {},
   "source": [
    "# Algoritma Swap"
   ]
  },
  {
   "cell_type": "code",
   "execution_count": 27,
   "metadata": {},
   "outputs": [
    {
     "name": "stdout",
     "output_type": "stream",
     "text": [
      "2 3\n",
      "3 2\n"
     ]
    }
   ],
   "source": [
    "var1 = 2\n",
    "var2 = 3\n",
    "print(var1, var2)\n",
    "var1, var2 = var2, var1\n",
    "print(var1, var2)"
   ]
  },
  {
   "cell_type": "markdown",
   "metadata": {},
   "source": [
    "# Latihan"
   ]
  },
  {
   "cell_type": "code",
   "execution_count": 28,
   "metadata": {},
   "outputs": [
    {
     "name": "stdout",
     "output_type": "stream",
     "text": [
      "2 3 4\n",
      "4 2 3\n"
     ]
    }
   ],
   "source": [
    "var1 = 2 \n",
    "var2 = 3 \n",
    "var3 = 4\n",
    "print(var1, var2, var3)\n",
    "var1, var2, var3 = var3, var1, var2\n",
    "print(var1, var2, var3)"
   ]
  },
  {
   "cell_type": "markdown",
   "metadata": {},
   "source": [
    "# Bubble Sort"
   ]
  },
  {
   "cell_type": "code",
   "execution_count": 29,
   "metadata": {},
   "outputs": [
    {
     "name": "stdout",
     "output_type": "stream",
     "text": [
      "0 [34, 23, 12, 45, 9, 1, 24]\n",
      "1 [23, 34, 12, 45, 9, 1, 24]\n",
      "2 [23, 12, 34, 45, 9, 1, 24]\n",
      "3 [23, 12, 34, 45, 9, 1, 24]\n",
      "4 [23, 12, 34, 9, 45, 1, 24]\n",
      "5 [23, 12, 34, 9, 1, 45, 24]\n",
      "6 [23, 12, 34, 9, 1, 24, 45]\n"
     ]
    }
   ],
   "source": [
    "list = [34, 23, 12, 45, 9, 1, 24]\n",
    "lastElementIndex = len(list)-1\n",
    "print(0, list)\n",
    "for idx in range(lastElementIndex):\n",
    "    if list[idx] > list[idx+1]:\n",
    "        list[idx], list[idx+1] = list[idx+1], list[idx]\n",
    "    print(idx+1, list)\n"
   ]
  },
  {
   "cell_type": "code",
   "execution_count": 30,
   "metadata": {},
   "outputs": [],
   "source": [
    "# Lets make this nonstop until there is no more swap\n",
    "\n",
    "def BubbleSort(list):\n",
    "    lastElementIndex  = len(list) - 1\n",
    "    for passno in range(lastElementIndex, 0, -1):\n",
    "        for indx in range(passno):\n",
    "            if list[indx] > list[indx + 1]:\n",
    "                list[indx], list[indx + 1] = list[indx + 1], list[indx]\n",
    "        print(\"passno = \", passno,'Index = ', indx,\"list = \", list)\n",
    "    return list"
   ]
  },
  {
   "cell_type": "code",
   "execution_count": 31,
   "metadata": {},
   "outputs": [
    {
     "name": "stdout",
     "output_type": "stream",
     "text": [
      "passno =  9 Index =  8 list =  [3, 5, 6, 7, 9, 10, 13, 12, 2, 50]\n",
      "passno =  8 Index =  7 list =  [3, 5, 6, 7, 9, 10, 12, 2, 13, 50]\n",
      "passno =  7 Index =  6 list =  [3, 5, 6, 7, 9, 10, 2, 12, 13, 50]\n",
      "passno =  6 Index =  5 list =  [3, 5, 6, 7, 9, 2, 10, 12, 13, 50]\n",
      "passno =  5 Index =  4 list =  [3, 5, 6, 7, 2, 9, 10, 12, 13, 50]\n",
      "passno =  4 Index =  3 list =  [3, 5, 6, 2, 7, 9, 10, 12, 13, 50]\n",
      "passno =  3 Index =  2 list =  [3, 5, 2, 6, 7, 9, 10, 12, 13, 50]\n",
      "passno =  2 Index =  1 list =  [3, 2, 5, 6, 7, 9, 10, 12, 13, 50]\n",
      "passno =  1 Index =  0 list =  [2, 3, 5, 6, 7, 9, 10, 12, 13, 50]\n",
      "[2, 3, 5, 6, 7, 9, 10, 12, 13, 50]\n"
     ]
    }
   ],
   "source": [
    "list = BubbleSort([3,5,7,6,9,50,10,13,12,2])\n",
    "print(list)"
   ]
  },
  {
   "cell_type": "markdown",
   "metadata": {},
   "source": [
    "# Latihan"
   ]
  },
  {
   "cell_type": "code",
   "execution_count": 32,
   "metadata": {},
   "outputs": [],
   "source": [
    "def Latihan_BubbleSort(urutan):\n",
    "    panjang_list = len(urutan) - 1\n",
    "    for i in range(panjang_list, 0, -1):\n",
    "        for index in range (i):\n",
    "            if urutan[index] > urutan[index + 1]:\n",
    "                urutan[index], urutan[index+1] = urutan[index + 1], urutan[index]\n",
    "        print(\"i = \", i,\"index = \", index, \"list = \", urutan)\n",
    "    return urutan"
   ]
  },
  {
   "cell_type": "code",
   "execution_count": 33,
   "metadata": {},
   "outputs": [
    {
     "name": "stdout",
     "output_type": "stream",
     "text": [
      "i =  6 index =  5 list =  [20, 60, 90, 40, 30, 10, 100]\n",
      "i =  5 index =  4 list =  [20, 60, 40, 30, 10, 90, 100]\n",
      "i =  4 index =  3 list =  [20, 40, 30, 10, 60, 90, 100]\n",
      "i =  3 index =  2 list =  [20, 30, 10, 40, 60, 90, 100]\n",
      "i =  2 index =  1 list =  [20, 10, 30, 40, 60, 90, 100]\n",
      "i =  1 index =  0 list =  [10, 20, 30, 40, 60, 90, 100]\n",
      "[10, 20, 30, 40, 60, 90, 100]\n"
     ]
    }
   ],
   "source": [
    "print(Latihan_BubbleSort([100,20,60,90,40,30,10]))"
   ]
  },
  {
   "cell_type": "markdown",
   "metadata": {},
   "source": [
    "# Insertion Sort"
   ]
  },
  {
   "cell_type": "code",
   "execution_count": 34,
   "metadata": {},
   "outputs": [
    {
     "name": "stdout",
     "output_type": "stream",
     "text": [
      "Proses pada i =  1  Dengan Nilai banding =  26\n",
      "i =  1 list =  [25, 26, 22, 24, 27, 23, 21]\n",
      "Proses pada i =  2  Dengan Nilai banding =  22\n",
      "j =  1 list =  [25, 26, 26, 24, 27, 23, 21]\n",
      "j =  0 list =  [25, 25, 26, 24, 27, 23, 21]\n",
      "i =  2 list =  [22, 25, 26, 24, 27, 23, 21]\n",
      "Proses pada i =  3  Dengan Nilai banding =  24\n",
      "j =  2 list =  [22, 25, 26, 26, 27, 23, 21]\n",
      "j =  1 list =  [22, 25, 25, 26, 27, 23, 21]\n",
      "i =  3 list =  [22, 24, 25, 26, 27, 23, 21]\n",
      "Proses pada i =  4  Dengan Nilai banding =  27\n",
      "i =  4 list =  [22, 24, 25, 26, 27, 23, 21]\n",
      "Proses pada i =  5  Dengan Nilai banding =  23\n",
      "j =  4 list =  [22, 24, 25, 26, 27, 27, 21]\n",
      "j =  3 list =  [22, 24, 25, 26, 26, 27, 21]\n",
      "j =  2 list =  [22, 24, 25, 25, 26, 27, 21]\n",
      "j =  1 list =  [22, 24, 24, 25, 26, 27, 21]\n",
      "i =  5 list =  [22, 23, 24, 25, 26, 27, 21]\n",
      "Proses pada i =  6  Dengan Nilai banding =  21\n",
      "j =  5 list =  [22, 23, 24, 25, 26, 27, 27]\n",
      "j =  4 list =  [22, 23, 24, 25, 26, 26, 27]\n",
      "j =  3 list =  [22, 23, 24, 25, 25, 26, 27]\n",
      "j =  2 list =  [22, 23, 24, 24, 25, 26, 27]\n",
      "j =  1 list =  [22, 23, 23, 24, 25, 26, 27]\n",
      "j =  0 list =  [22, 22, 23, 24, 25, 26, 27]\n",
      "i =  6 list =  [21, 22, 23, 24, 25, 26, 27]\n",
      "[21, 22, 23, 24, 25, 26, 27]\n"
     ]
    }
   ],
   "source": [
    "def Insertion_sort (list):\n",
    "    for i in range(1, len(list)):\n",
    "        j = i - 1\n",
    "        next = list[i]\n",
    "        print(\"Proses pada i = \", i, \" Dengan Nilai banding = \" , next)\n",
    "        while (list[j] > next) and (j >= 0):\n",
    "            list[j + 1] = list[j]\n",
    "            print(\"j = \", j, \"list = \", list)\n",
    "            j = j - 1\n",
    "        list[j+1] = next\n",
    "        print(\"i = \",i, \"list = \",list)\n",
    "    return list\n",
    "\n",
    "print(Insertion_sort([25,26,22,24,27,23,21]))            \n",
    "            "
   ]
  },
  {
   "cell_type": "markdown",
   "metadata": {},
   "source": [
    "# Penjelasan Insertion Sort\n",
    "\n",
    "Insertion sort merupakan salah satu algoritma yang dapat digunakan untuk melakukan sorting suatu angka. Prinsip kerja dari sort ini adalah angka yang di urutkan akan di bandingkan dengan angka yang ada di sebelah kirinya. Jika angka di sebelah kirinya lebih besar maka angka tersebut akan di tukar posisinya dengan angka yang di sebelah kirinya. Proses ini akan terus berlanjut sampai angka yang di sebelah kirinya lebih kecil dari angka yang sedang di urutkan. Jika di dalam bubble sort terdapat istilah swap maka di insertion sort terdapat istilah shifting. Shifting merupakan proses menggeser angka ke kanan untuk menyediakan ruang bagi angka yang akan di urutkan."
   ]
  },
  {
   "cell_type": "markdown",
   "metadata": {},
   "source": [
    "# Latihan"
   ]
  },
  {
   "cell_type": "code",
   "execution_count": 35,
   "metadata": {},
   "outputs": [],
   "source": [
    "def metode_sorting_invertion(list):\n",
    "    for i in range(1 , len(list)):\n",
    "        j = i - 1\n",
    "        next = list[i]\n",
    "        while(list[j] > next) and (j >=0):\n",
    "            list[j + 1] = list[j]\n",
    "            # if u use bubble sort you must save the next in here like this\n",
    "            # list[j] = next\n",
    "            # and you compare list [ j -1 ] with list [j]\n",
    "            j = j -1\n",
    "        list[j + 1] = next # Why j + 1 karena j di loop hingga -1\n",
    "    return list\n"
   ]
  },
  {
   "cell_type": "code",
   "execution_count": 36,
   "metadata": {},
   "outputs": [
    {
     "name": "stdout",
     "output_type": "stream",
     "text": [
      "[11, 12, 16, 25, 57, 75, 89]\n"
     ]
    }
   ],
   "source": [
    "print(metode_sorting_invertion([89,12,57,16,25,11,75]))"
   ]
  },
  {
   "cell_type": "markdown",
   "metadata": {},
   "source": [
    "# Selection Sort"
   ]
  },
  {
   "cell_type": "code",
   "execution_count": 37,
   "metadata": {},
   "outputs": [],
   "source": [
    "def Selection_sort(list):\n",
    "    for i in range(len(list) - 1, 0, -1):\n",
    "        angka_ingin_banding = 0\n",
    "        for j in range(0, i + 1):\n",
    "            if (list[angka_ingin_banding] < list[j]):\n",
    "                angka_ingin_banding = j\n",
    "        list[i], list[angka_ingin_banding] = list[angka_ingin_banding], list[i]\n",
    "    return list"
   ]
  },
  {
   "cell_type": "code",
   "execution_count": 38,
   "metadata": {},
   "outputs": [
    {
     "name": "stdout",
     "output_type": "stream",
     "text": [
      "[15, 19, 25, 34, 44, 70]\n"
     ]
    }
   ],
   "source": [
    "print(Selection_sort([70,15,25,19,34,44]))"
   ]
  },
  {
   "cell_type": "markdown",
   "metadata": {},
   "source": [
    "# Linear Search"
   ]
  },
  {
   "cell_type": "code",
   "execution_count": 39,
   "metadata": {},
   "outputs": [],
   "source": [
    "def search(Data, target):\n",
    "\n",
    "    found = False\n",
    "    for i in range(len(Data)):\n",
    "        if Data[i] == target:\n",
    "            found = True\n",
    "            print(\"Data ditemukan pada index ke - \", i)\n",
    "            break\n",
    "    if found == False:\n",
    "        print(\"Data tidak ditemukan\")\n"
   ]
  },
  {
   "cell_type": "code",
   "execution_count": 40,
   "metadata": {},
   "outputs": [
    {
     "name": "stdout",
     "output_type": "stream",
     "text": [
      "Data ditemukan pada index ke -  5\n",
      "Data tidak ditemukan\n"
     ]
    }
   ],
   "source": [
    "list = [12, 33, 11, 99, 22, 55, 90]\n",
    "search(list, 55)\n",
    "search(list, 91)"
   ]
  },
  {
   "cell_type": "code",
   "execution_count": 41,
   "metadata": {},
   "outputs": [],
   "source": [
    "def linear_search(list, target):\n",
    "    Index = 0\n",
    "    found = False\n",
    "    penanda = 0\n",
    "    while(Index < len(list)) and found is False:\n",
    "        if list[Index] == target:\n",
    "            found = True\n",
    "            penanda = Index\n",
    "        else:\n",
    "            Index = Index + 1\n",
    "    return found"
   ]
  },
  {
   "cell_type": "code",
   "execution_count": 42,
   "metadata": {},
   "outputs": [
    {
     "name": "stdout",
     "output_type": "stream",
     "text": [
      "True\n",
      "False\n"
     ]
    }
   ],
   "source": [
    "list = [12, 33, 11, 99, 22, 55, 90]\n",
    "print(linear_search(list, 12))\n",
    "print(linear_search(list, 91))"
   ]
  },
  {
   "cell_type": "markdown",
   "metadata": {},
   "source": [
    "# Latihan"
   ]
  },
  {
   "cell_type": "code",
   "execution_count": 43,
   "metadata": {},
   "outputs": [],
   "source": [
    "def linearSearch(ListData, key):   \n",
    "    list = []\n",
    "    for i in ListData:\n",
    "        list.append(i)\n",
    "    index = 0\n",
    "    found = False\n",
    "    huruf = 0\n",
    "    while index < len(list) and found is False:\n",
    "        if list[index] == key:\n",
    "            found = True\n",
    "            huruf = index\n",
    "        else:\n",
    "            index = index + 1\n",
    "    return found, huruf"
   ]
  },
  {
   "cell_type": "code",
   "execution_count": 44,
   "metadata": {},
   "outputs": [
    {
     "name": "stdout",
     "output_type": "stream",
     "text": [
      "(True, 5)\n"
     ]
    }
   ],
   "source": [
    "line = \"yuiwoaquip\"\n",
    "data = linearSearch(line, 'a')\n",
    "print(data)\n"
   ]
  },
  {
   "cell_type": "markdown",
   "metadata": {},
   "source": [
    "# Binary Search"
   ]
  },
  {
   "cell_type": "code",
   "execution_count": 45,
   "metadata": {},
   "outputs": [],
   "source": [
    "def BinarySearch(list, item):\n",
    "    first = 0\n",
    "    last = len(list) - 1\n",
    "    found = False\n",
    "    while first <= last and not found:\n",
    "        midpoint = (first + last) // 2\n",
    "        if list[midpoint] == item:\n",
    "            found = True\n",
    "        else:\n",
    "            if item < list[midpoint]:\n",
    "                last = midpoint - 1\n",
    "            else:\n",
    "                first = midpoint + 1\n",
    "    return found"
   ]
  },
  {
   "cell_type": "code",
   "execution_count": 46,
   "metadata": {},
   "outputs": [
    {
     "name": "stdout",
     "output_type": "stream",
     "text": [
      "[11, 12, 22, 33, 55, 90, 99]\n",
      "True\n"
     ]
    }
   ],
   "source": [
    "list = [12,33,11,99,22,55,90]\n",
    "sorted_list = Selection_sort(list)\n",
    "print(sorted_list)\n",
    "print(BinarySearch(sorted_list, 12))"
   ]
  },
  {
   "cell_type": "markdown",
   "metadata": {},
   "source": [
    "# Latihan "
   ]
  },
  {
   "cell_type": "code",
   "execution_count": 47,
   "metadata": {},
   "outputs": [],
   "source": [
    "def binary_search (data, target):\n",
    "    list = []\n",
    "    index_target = 0   \n",
    "    for i in data:\n",
    "        list.append(i)\n",
    "    print(list)\n",
    "    for i in range (len(list)):\n",
    "        if list[i] == target:\n",
    "            index_target = i\n",
    "    print(\"Index target = \", index_target)\n",
    "\n",
    "    first = 0\n",
    "    last =  len(list) - 1\n",
    "    found = False\n",
    "    while first <= last and not found:\n",
    "        mid_point = (first + last) // 2\n",
    "        if list[mid_point] == list[index_target]:\n",
    "            nilai = list[mid_point]\n",
    "            found = True\n",
    "        elif mid_point > index_target:\n",
    "            last = mid_point - 1\n",
    "            print(\"last = \", last)\n",
    "        else:\n",
    "            first = mid_point + 1\n",
    "            print(\"First = \", first)\n",
    "    return  found, nilai\n",
    "\n"
   ]
  },
  {
   "cell_type": "code",
   "execution_count": 48,
   "metadata": {},
   "outputs": [
    {
     "name": "stdout",
     "output_type": "stream",
     "text": [
      "['y', 'u', 'i', 'w', 'o', 'a', 'q', 'u', 'i', 'p']\n",
      "Index target =  5\n",
      "First =  5\n",
      "last =  6\n",
      "(True, 'a')\n"
     ]
    }
   ],
   "source": [
    "print(binary_search(\"yuiwoaquip\", 'a'))"
   ]
  },
  {
   "cell_type": "markdown",
   "metadata": {},
   "source": [
    "# Interpolation Search"
   ]
  },
  {
   "cell_type": "markdown",
   "metadata": {},
   "source": [
    "Kalo tadi binary search itu kan berdasarkan nilai tengah pas nyarinya. Kalo interpolation search ini menggunakan nilai target untuk memperkirakan posisi elemen dalam array yang diurutkan. Contoh kalo kalian mau nyari river. Kita akan menggunakan informasi ini untuk interpolasi dan mulai mencari kata - kata yang dimulai dengan 'r'."
   ]
  },
  {
   "cell_type": "code",
   "execution_count": 49,
   "metadata": {},
   "outputs": [],
   "source": [
    "def IntPolsearch(list, x):\n",
    "    idx0 = 0\n",
    "    idxn = (len(list) - 1)\n",
    "    found = False\n",
    "    while idx0 <= idxn and x >= list[idx0] and x <= list[idxn]:\n",
    "        # Find the mid point\n",
    "        mid = idx0 + int(((float(idxn - idx0) / (list[idxn] - list[idx0])) * (x - list[idx0])))\n",
    "        #Compare the value at mid point with search value\n",
    "        if list[mid] == x:\n",
    "            found = True\n",
    "            return found\n",
    "        if list[mid] < x:\n",
    "            idx0 = mid + 1\n",
    "    return found"
   ]
  },
  {
   "cell_type": "code",
   "execution_count": 50,
   "metadata": {},
   "outputs": [
    {
     "name": "stdout",
     "output_type": "stream",
     "text": [
      "[11, 12, 22, 33, 55, 90, 99]\n",
      "True\n",
      "False\n",
      "True\n"
     ]
    }
   ],
   "source": [
    "list = [12,33,11,99,22,55,90]\n",
    "sorted_list = Selection_sort(list)\n",
    "print(sorted_list)\n",
    "print(IntPolsearch(sorted_list, 12))\n",
    "print(IntPolsearch(sorted_list, 91))\n",
    "print(IntPolsearch(sorted_list, 99))"
   ]
  },
  {
   "cell_type": "markdown",
   "metadata": {},
   "source": [
    "# Latihan"
   ]
  },
  {
   "cell_type": "code",
   "execution_count": 51,
   "metadata": {},
   "outputs": [],
   "source": [
    "def interpolation_sort (list, target):\n",
    "    kata = []\n",
    "    index_huruf = []\n",
    "    index_target = -1\n",
    "    Found = False\n",
    "    for i in list:\n",
    "        kata.append(i)\n",
    "    for i in range(len(kata)):\n",
    "        if kata[i] == target:\n",
    "            index_target = i + 1\n",
    "        index_huruf.append(i + 1)\n",
    "    print(kata)\n",
    "    print(index_huruf)\n",
    "    indx0 = 0\n",
    "    indxn = len(kata) - 1\n",
    "    print(indxn)\n",
    "    while (indx0 <= indxn) and (index_target >= 0):\n",
    "        mid = indx0 + int((float((indxn - indx0) / (index_huruf[indxn] - index_huruf[indx0])) * (index_target - index_huruf[indxn])))\n",
    "        print(\"Mid = \", mid, \"indx0 = \", indx0)\n",
    "        if kata[mid - 1] == target:\n",
    "            Found = True\n",
    "            return Found\n",
    "        if mid < index_target:\n",
    "            indx0 =  mid + 1\n",
    "    return Found"
   ]
  },
  {
   "cell_type": "code",
   "execution_count": 52,
   "metadata": {},
   "outputs": [
    {
     "name": "stdout",
     "output_type": "stream",
     "text": [
      "['y', 'u', 'i', 'w', 'o', 'a', 'q', 'u', 'j', 'p']\n",
      "[1, 2, 3, 4, 5, 6, 7, 8, 9, 10]\n",
      "9\n",
      "Mid =  -2 indx0 =  0\n",
      "True\n"
     ]
    }
   ],
   "source": [
    "kata = \"yuiwoaqujp\"\n",
    "print(interpolation_sort(kata, \"u\"))"
   ]
  }
 ],
 "metadata": {
  "kernelspec": {
   "display_name": "Python 3",
   "language": "python",
   "name": "python3"
  },
  "language_info": {
   "codemirror_mode": {
    "name": "ipython",
    "version": 3
   },
   "file_extension": ".py",
   "mimetype": "text/x-python",
   "name": "python",
   "nbconvert_exporter": "python",
   "pygments_lexer": "ipython3",
   "version": "3.11.5"
  },
  "orig_nbformat": 4
 },
 "nbformat": 4,
 "nbformat_minor": 2
}
